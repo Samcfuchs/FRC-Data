{
 "cells": [
  {
   "cell_type": "code",
   "execution_count": 0,
   "metadata": {},
   "outputs": [],
   "source": [
    "# Change directory to VSCode workspace root so that relative path loads work correctly. Turn this addition off with the DataScience.changeDirOnImportExport setting\n",
    "import os\n",
    "try:\n",
    "\tos.chdir(os.path.join(os.getcwd(), '..\\..'))\n",
    "\tprint(os.getcwd())\n",
    "except:\n",
    "\tpass\n"
   ]
  },
  {
   "cell_type": "markdown",
   "metadata": {},
   "source": [
    " # Calculating Elo scores for FRC\n",
    " The Elo system was designed by chess master and physics professor Arpad Elo as\n",
    " a more accurate way to evaluate relative skill levels in zero-sum, two-player\n",
    " games, chiefly chess. The World Chess Federation still uses his system, which\n",
    " has since seen widespread use in other fields, such as video games.\n",
    "\n",
    " One of the challenges with many analytics around FRC is the reliance on\n",
    " inaccurate metrics to evaluate a team's skill level in relation to others.\n",
    " These include:\n",
    "\n",
    " ## Cumulative Rank Points\n",
    " This is the rank system officially used by FRC to rank teams within qualifying\n",
    " matches at events. Any team that has competed at any FRC event can tell you it\n",
    " comes with a host of problems. For instance, teams can benefit greatly from an\n",
    " imbalanced schedule. Since this metric makes no attempt to distinguish between\n",
    " the scoring efforts of the individual components of the alliance, a team that\n",
    " happens to compete alongside capable robots can be boosted high up in the\n",
    " rankings independent of their own ability. In addition, it suffers from the\n",
    " changing dynamic of the game from the qualifying to elimination matches -\n",
    " teams are forced to play an arbitrarily different game in qualifying matches,\n",
    " making decisions, such as placing all their cargo into a single rocket,\n",
    " prioritizing the switch over the scale, or crossing additional defenses, that\n",
    " are unstrategic in eliminations. As a result, ranking points are an imprecise\n",
    " predictor of elimination-match ability.\n",
    "\n",
    " ## Winrate\n",
    " A classic and simple metric, winrate is used widely in professional sports to\n",
    " seed teams for tournaments. Nevertheless, the alliance differentiation problem\n",
    " presented by the Rank Point system is even more pronounced in the winrate\n",
    " metric, which accounts even less for granular scoring actions. However,\n",
    " because it is familiar and simple, winrate nets a lot of attention in FRC,\n",
    " most notably surrounding team 254's 2018 season, where they alone achieved a\n",
    " 1.0 winrate.\n",
    "\n",
    " ## Average Win Margin\n",
    " Often, people aiming to improve upon a winrate predictor tend to settle on\n",
    " average win margin, which appears to provide a more granular image of match\n",
    " results, and gives teams more credit for scoring more points - isn't that what\n",
    " we're aiming to do anyway? However, the average win margin predictor can fall\n",
    " apart under a closer examination of match strategy. In particular, it punishes\n",
    " teams that win more competitive matches in eliminations - when 330's alliance\n",
    " won the World Championship in 2016 by exactly 0 points, their performance\n",
    " under an average win margin predictor decreased.\n",
    "\n",
    " ## OPR\n",
    " Offensive Power Ranking might be the most contentious statistic in FRC. OPR's\n",
    " main claim to fame is its professed ability to pick apart an alliance and\n",
    " attempt to determine the contributions of each individual robot using linear\n",
    " algebra. Unfortunately I've never had the chance to see an actual analysis of\n",
    " how well it manages to make those predictions. While I generally advocate\n",
    " against the abuse of OPR, it's basically sound and can give some valuable\n",
    " insights. That said, one of the chief assumptions of linear algebra is that\n",
    " its predictors are independent, which any alliance captain can tell you is not\n",
    " practical. In short, an alliance is more powerful than the sum of its parts,\n",
    " and OPR fails to account for this. More importantly for our purposes, though,\n",
    " OPR doesn't scale well. By the nature of the calculation, it works best in a\n",
    " closed system, with a reasonably limited number of teams and a high density.\n",
    " From a linear algebra standpoint, FRC data is too sparse for OPR to be\n",
    " computationally practical. This is why sites like frc.divisions.co list a\n",
    " maximum OPR, rather than simply giving an absolute OPR rating for a team over\n",
    " a season. These same problems are shared by DPR, which is essentially the same\n",
    " algorithm but used to predict the depression in the opposing alliance's score,\n",
    " i.e. the effect of defense, and also by CCWM (calculated contribution\n",
    " to win margin).\n",
    "\n",
    " And so we arrive at\n",
    " ## Elo\n",
    " An Elo ranking system evaluates a match in the context of team skill, and uses\n",
    " that to adjust its evaluation of team skill. In essence, scores change more in\n",
    " upsets than in expected outcomes, so when 1678 stomps the 8th seeded alliance\n",
    " that wasn't able to pick up a second fuel bot, they aren't rewarded\n",
    " disproportionately to the difficulty of the match. And when a gearbot alliance\n",
    " upsets 2056, each member of the winning alliance gains a lot of points, and\n",
    " 2056 forfeits them. It's worth noting that the system is zero-sum - every team\n",
    " starts with the same number of points, and in each match, points are\n",
    " exchanged, given from the losing alliance to the winning one. In this\n",
    " implementation, we resolve the skill of each alliance as the sum of the skills\n",
    " of its teams, and model each match as a two player, zero-sum game."
   ]
  },
  {
   "cell_type": "code",
   "execution_count": 1,
   "metadata": {},
   "outputs": [],
   "source": [
    "# Import data\n",
    "import pandas as pd\n",
    "import numpy as np\n",
    "import math\n",
    "import typing\n",
    "import time\n",
    "\n",
    "YEAR = 2019\n",
    "FILENAME = f\"C:/Users/Sam/Documents/236/Statistics/data/{YEAR}_MatchData_basic.csv\"\n",
    "\n",
    "data = pd.read_csv(FILENAME, index_col=False)\n"
   ]
  },
  {
   "cell_type": "markdown",
   "metadata": {},
   "source": [
    " To be clear, I hate jupyter notebooks. But I don't want to write an actual\n",
    " paper, I just want to write some python and talk about data, so unfortunately\n",
    " you have to look at my ugly code. So rest assured that all I'm doing here is\n",
    " collating match results - turning each group of 6 rows (one for each team in a\n",
    " match) into a single row for each match, with a tuple representing the\n",
    " alliances. If you're really into figurative coding, you can think of this as\n",
    " the condensation of the 6 players in each match into the 2 pseudo-players\n",
    " represented by each alliance."
   ]
  },
  {
   "cell_type": "code",
   "execution_count": 2,
   "metadata": {},
   "outputs": [],
   "source": [
    "# Data processing\n",
    "cols_ren = {\n",
    "    'Key':'Key',\n",
    "    'Event':'Event',\n",
    "    'Week':'Week',\n",
    "    'Competition Level':'comp_level',\n",
    "    'Match Number': 'match',\n",
    "    'Set Number': 'set',\n",
    "}\n",
    "\n",
    "matches = data.loc[::6, cols_ren.keys()]\n",
    "matches.reset_index(drop=True, inplace=True)\n",
    "matches.rename(columns=cols_ren, inplace=True)\n"
   ]
  },
  {
   "cell_type": "code",
   "execution_count": 3,
   "metadata": {},
   "outputs": [],
   "source": [
    "# Collate teams into rows\n",
    "for alliance in ['blue','red']:\n",
    "    for n in [1,2,3]:\n",
    "        key = f\"{alliance}{n}\"\n",
    "        matches[key] = data.loc[(data.Alliance==alliance) & (data['Robot Number']==n),\"Team\"].reset_index(drop=True)\n",
    "\n",
    "# Build tuples from rows\n",
    "matches['blue'] = list(zip(matches.blue1,matches.blue2,matches.blue3))\n",
    "matches['red'] = list(zip(matches.red1,matches.red2,matches.red3))\n",
    "matches = matches.drop(['blue1','blue2','blue3','red1','red2','red3'],axis=1)\n"
   ]
  },
  {
   "cell_type": "code",
   "execution_count": 4,
   "metadata": {},
   "outputs": [],
   "source": [
    "# Add results to matches\n",
    "f = { 'W':1.0, 'L':0.0, 'T':0.5 }\n",
    "matches['outcome'] = data.loc[::6, 'result'].map(f).reset_index(drop=True)\n"
   ]
  },
  {
   "cell_type": "code",
   "execution_count": 5,
   "metadata": {},
   "outputs": [],
   "source": [
    "# Sort matches into approximate order\n",
    "comp_level_f = { 'qm':0, 'qf':1, 'sf':2, 'f':3 }\n",
    "matches['comp_level_n'] = matches.comp_level.map(comp_level_f)\n",
    "matches.sort_values(['Week','Event','comp_level_n','set','match'], inplace=True)\n",
    "matches.drop(['Event','comp_level_n'], axis=1, inplace=True)\n",
    "matches.reset_index(inplace=True, drop=True)\n"
   ]
  },
  {
   "cell_type": "markdown",
   "metadata": {},
   "source": [
    " # Constants\n",
    " The Elo model does require some moderate tuning, namely of $K$ and $N$:\n",
    "\n",
    " * $K$: volatility (the amount rankings tend to change after each match)\n",
    " * $N$: The point difference suggesting a 10x difference in ability\n",
    "\n",
    " $N$ mostly acts as a scaling constant, whereas $K$ can have some notable\n",
    " influence over the course of the season. Sometimes $K$ is varied based on some\n",
    " match characteristic, e.g. previous matches played, tournament level, skill\n",
    " tier, etc. In the interest of egalitarianism (and simplicity), I use a\n",
    " constant $K$ value, which nevertheless has significant predictive power.\n",
    "\n",
    " Note that we use a starting elo value of 100 for this model."
   ]
  },
  {
   "cell_type": "code",
   "execution_count": 6,
   "metadata": {},
   "outputs": [],
   "source": [
    "# Set constants\n",
    "N = 100\n",
    "K = 10\n",
    "initial = 100\n"
   ]
  },
  {
   "cell_type": "markdown",
   "metadata": {},
   "source": [
    " # Basic ELO Rating\n",
    " Here we build out the standard implementation of an ELO rating system. The\n",
    " probability of player 1 winning a match is given from $r_1$ and $r_2$, the\n",
    " ratings of player 1 and player 2, respectively. The formula for the predicted\n",
    " probability is given below:\n",
    " $$ \\frac{1}{1 + 10^{(r_1 - r_2) / N}} $$\n",
    " with $N$ as described above."
   ]
  },
  {
   "cell_type": "code",
   "execution_count": 7,
   "metadata": {},
   "outputs": [],
   "source": [
    "# Rating functions\n",
    "\n",
    "Pair = (float, float)\n",
    "Alliance = (int, int, int)\n",
    "\n",
    "def P(r1: float, r2: float) -> float:\n",
    "    #\"\"\" Probability of player 1 winning the match \"\"\"\n",
    "    return 1.0 / (1 + math.pow(10, (r2 - r1) / N))\n",
    "\n",
    "def P_alliance(alliance_1, alliance_2):\n",
    "    # Probability of alliance 1 winning the match\n",
    "    r_1 = sum(teams.loc[alliance_1, 'elo'])\n",
    "    r_2 = sum(teams.loc[alliance_2, 'elo'])\n",
    "\n",
    "    p_1 = P(r_1, r_2)\n",
    "    p_2 = P(r_2, r_1)\n",
    "\n",
    "    return p_1, p_2\n",
    "\n",
    "def rate(a: Alliance):\n",
    "    return sum(teams.loc[a,\"elo\"])\n",
    "\n",
    "def get_delta_match(match):\n",
    "    # Subteams is a slice of team elos that should improve efficiency\n",
    "    b = match['blue']\n",
    "    r = match['red']\n",
    "\n",
    "    p_b, p_r = P_alliance(b, r)\n",
    "\n",
    "    outcome = match['outcome']\n",
    "\n",
    "    if outcome == 1.0:\n",
    "        return ( K * (1-p_b), K * (0-p_r) )\n",
    "    elif outcome == 0.0:\n",
    "        return ( K * (0-p_b), K * (1-p_r) )\n",
    "    else:\n",
    "        return ( K * (0.5-p_b), K * (0.5-p_r) )\n",
    "\n"
   ]
  },
  {
   "cell_type": "code",
   "execution_count": 8,
   "metadata": {},
   "outputs": [],
   "source": [
    "# Build empty elo dataframe\n",
    "teams = pd.DataFrame(index=data.Team.unique())\n",
    "teams['elo'] = np.ones(len(teams)) * initial\n"
   ]
  },
  {
   "cell_type": "code",
   "execution_count": 9,
   "metadata": {},
   "outputs": [
    {
     "name": "stdout",
     "output_type": "stream",
     "text": [
      "263.8326368331909\n"
     ]
    }
   ],
   "source": [
    "# Calculate elos for season\n",
    "def process(row):\n",
    "    d = get_delta_match(row)\n",
    "\n",
    "    teams.loc[row['blue'],'elo'] += d[0]\n",
    "    teams.loc[row['red'],'elo'] += d[1]\n",
    "\n",
    "start = time.time()\n",
    "matches.apply(process, axis=1)\n",
    "end = time.time()\n",
    "print(end - start)\n"
   ]
  },
  {
   "cell_type": "markdown",
   "metadata": {},
   "source": [
    " # Interpreting Elo scores\n",
    " Immediately, we can begin by using these calculated Elo scores to build a\n",
    " ranking of the top 25 teams in Deep Space."
   ]
  },
  {
   "cell_type": "code",
   "execution_count": 10,
   "metadata": {},
   "outputs": [
    {
     "data": {
      "text/html": [
       "<div>\n",
       "<style scoped>\n",
       "    .dataframe tbody tr th:only-of-type {\n",
       "        vertical-align: middle;\n",
       "    }\n",
       "\n",
       "    .dataframe tbody tr th {\n",
       "        vertical-align: top;\n",
       "    }\n",
       "\n",
       "    .dataframe thead th {\n",
       "        text-align: right;\n",
       "    }\n",
       "</style>\n",
       "<table border=\"1\" class=\"dataframe\">\n",
       "  <thead>\n",
       "    <tr style=\"text-align: right;\">\n",
       "      <th></th>\n",
       "      <th>elo</th>\n",
       "    </tr>\n",
       "  </thead>\n",
       "  <tbody>\n",
       "    <tr>\n",
       "      <th>1114</th>\n",
       "      <td>219.977794</td>\n",
       "    </tr>\n",
       "    <tr>\n",
       "      <th>2056</th>\n",
       "      <td>209.820976</td>\n",
       "    </tr>\n",
       "    <tr>\n",
       "      <th>254</th>\n",
       "      <td>208.403307</td>\n",
       "    </tr>\n",
       "    <tr>\n",
       "      <th>973</th>\n",
       "      <td>205.711456</td>\n",
       "    </tr>\n",
       "    <tr>\n",
       "      <th>3310</th>\n",
       "      <td>204.584318</td>\n",
       "    </tr>\n",
       "    <tr>\n",
       "      <th>1678</th>\n",
       "      <td>203.686276</td>\n",
       "    </tr>\n",
       "    <tr>\n",
       "      <th>2046</th>\n",
       "      <td>203.222314</td>\n",
       "    </tr>\n",
       "    <tr>\n",
       "      <th>148</th>\n",
       "      <td>199.832430</td>\n",
       "    </tr>\n",
       "    <tr>\n",
       "      <th>2910</th>\n",
       "      <td>199.516608</td>\n",
       "    </tr>\n",
       "    <tr>\n",
       "      <th>1323</th>\n",
       "      <td>198.363148</td>\n",
       "    </tr>\n",
       "    <tr>\n",
       "      <th>971</th>\n",
       "      <td>197.792969</td>\n",
       "    </tr>\n",
       "    <tr>\n",
       "      <th>2054</th>\n",
       "      <td>195.495773</td>\n",
       "    </tr>\n",
       "    <tr>\n",
       "      <th>179</th>\n",
       "      <td>194.935036</td>\n",
       "    </tr>\n",
       "    <tr>\n",
       "      <th>118</th>\n",
       "      <td>193.581273</td>\n",
       "    </tr>\n",
       "    <tr>\n",
       "      <th>3538</th>\n",
       "      <td>192.437004</td>\n",
       "    </tr>\n",
       "    <tr>\n",
       "      <th>2767</th>\n",
       "      <td>190.371753</td>\n",
       "    </tr>\n",
       "    <tr>\n",
       "      <th>3707</th>\n",
       "      <td>190.013057</td>\n",
       "    </tr>\n",
       "    <tr>\n",
       "      <th>2168</th>\n",
       "      <td>189.599724</td>\n",
       "    </tr>\n",
       "    <tr>\n",
       "      <th>359</th>\n",
       "      <td>186.745030</td>\n",
       "    </tr>\n",
       "    <tr>\n",
       "      <th>125</th>\n",
       "      <td>186.648444</td>\n",
       "    </tr>\n",
       "    <tr>\n",
       "      <th>33</th>\n",
       "      <td>186.159157</td>\n",
       "    </tr>\n",
       "    <tr>\n",
       "      <th>67</th>\n",
       "      <td>185.526225</td>\n",
       "    </tr>\n",
       "    <tr>\n",
       "      <th>176</th>\n",
       "      <td>184.853186</td>\n",
       "    </tr>\n",
       "    <tr>\n",
       "      <th>747</th>\n",
       "      <td>184.467384</td>\n",
       "    </tr>\n",
       "    <tr>\n",
       "      <th>5883</th>\n",
       "      <td>183.927838</td>\n",
       "    </tr>\n",
       "  </tbody>\n",
       "</table>\n",
       "</div>"
      ],
      "text/plain": [
       "             elo\n",
       "1114  219.977794\n",
       "2056  209.820976\n",
       "254   208.403307\n",
       "973   205.711456\n",
       "3310  204.584318\n",
       "1678  203.686276\n",
       "2046  203.222314\n",
       "148   199.832430\n",
       "2910  199.516608\n",
       "1323  198.363148\n",
       "971   197.792969\n",
       "2054  195.495773\n",
       "179   194.935036\n",
       "118   193.581273\n",
       "3538  192.437004\n",
       "2767  190.371753\n",
       "3707  190.013057\n",
       "2168  189.599724\n",
       "359   186.745030\n",
       "125   186.648444\n",
       "33    186.159157\n",
       "67    185.526225\n",
       "176   184.853186\n",
       "747   184.467384\n",
       "5883  183.927838"
      ]
     },
     "execution_count": 10,
     "metadata": {},
     "output_type": "execute_result"
    }
   ],
   "source": [
    "teams.sort_values('elo', ascending=False).head(25)\n"
   ]
  },
  {
   "cell_type": "markdown",
   "metadata": {},
   "source": [
    " Hey, these guys look familiar! We've got 1114 and 2056, two of the most\n",
    " successful teams this year, and a ton of other memorable powerhouse teams. I\n",
    " personally recognize 20 of the top 25 ranked teams. This is a pretty\n",
    " impressive proof of the validity of our ranking.\n",
    "\n",
    " We can also use these scores to get a general idea of the distribution of\n",
    " skill in FIRST Robotics."
   ]
  },
  {
   "cell_type": "code",
   "execution_count": 11,
   "metadata": {},
   "outputs": [
    {
     "data": {
      "text/plain": [
       "<matplotlib.axes._subplots.AxesSubplot at 0x1a610538da0>"
      ]
     },
     "execution_count": 11,
     "metadata": {},
     "output_type": "execute_result"
    },
    {
     "data": {
      "image/png": "[encoded data removed]",
      "text/plain": [
       "<Figure size 432x288 with 1 Axes>"
      ]
     },
     "metadata": {},
     "output_type": "display_data"
    }
   ],
   "source": [
    "import seaborn as sns; sns.set(color_codes=True)\n",
    "sns.kdeplot(teams.elo, shade=True)\n"
   ]
  },
  {
   "cell_type": "markdown",
   "metadata": {},
   "source": [
    " First, recall that all teams begin with an elo score of 100. Also keep in mind\n",
    " that a significant number of teams compete in exactly 10 matches in their FRC\n",
    " season. Thanks to the (flawed) regional system, they go to one regional,\n",
    " aren't picked for an alliance, and can't afford to attend another event.\n",
    " Meanwhile, they're competing against a lot of teams with similar elo scores,\n",
    " level, so they don't get the chance to beat a much higher ranked team or lose\n",
    " to a much lower ranked team and accumulate a large point change. As a result,\n",
    " many of these teams clump just below 100, as they lose to the teams that move\n",
    " into the eliminations.\n",
    "\n",
    " We also notice a strong rightward skew to the plot - this makes sense too,\n",
    " since **the best teams get to keep playing** and therefore continue to inflate\n",
    " their elo score. Dipping into speculation, I would expect that a real skill\n",
    " distribution in FRC (which we would see if all teams played the same number of\n",
    " matches) is probably right skewed anyways - there's a lot of teams\n",
    " (e.g. rookies, low-resource teams) that fall into the middle and lower\n",
    " percentiles of skill, while the few teams that excel (the \"powerhouse\" teams)\n",
    " are few, but see much, much more success than the average FRC team."
   ]
  },
  {
   "cell_type": "markdown",
   "metadata": {},
   "source": [
    " # Analyzing individual matches\n",
    " Because elo is inherently a probabilistic algorithm, we can use it to predict\n",
    " the outcomes of individual matches. Take as an example the 2019 Houston\n",
    " Einstein finals with the following alliances:\n",
    "\n",
    " | Red | Blue  |\n",
    " |------|------|\n",
    " | 3310 | 1323 |\n",
    " | 254  | 973  |\n",
    " | 6986 | 5026 |\n",
    "\n",
    " The win probabilities as calculated by our model:\n",
    "\n",
    " Note: this model is updated through Houston championships, so it does include\n",
    " the Einstein finals. Because it's pretty computationally expensive to rebuild\n",
    " the table, I'm making the executive decision to ignore this."
   ]
  },
  {
   "cell_type": "code",
   "execution_count": 12,
   "metadata": {},
   "outputs": [
    {
     "data": {
      "text/plain": [
       "(0.4499558644191424, 0.5500441355808575)"
      ]
     },
     "execution_count": 12,
     "metadata": {},
     "output_type": "execute_result"
    }
   ],
   "source": [
    "P_alliance([1323,973,5026],[3310,254,6986])\n"
   ]
  },
  {
   "cell_type": "markdown",
   "metadata": {},
   "source": [
    " Our model gives the red alliance a 55% chance of winning the match. Of course\n",
    " we know in retrospect that the blue alliance pulled out an upset, but it's\n",
    " impressive to see a meaningful prediction of match outcome."
   ]
  },
  {
   "cell_type": "markdown",
   "metadata": {},
   "source": [
    " # Toward the future\n",
    " What else can we do with this data? Consider that we have basic match data\n",
    " dating back to 2007 available on The Blue Alliance - by compiling this data,\n",
    " we can calculate long-term elo scores for every competing FRC team. Perhaps we\n",
    " can correlate this model with match scores and generate relevnt predictions.\n",
    " We could also use this data to determine the relative \"difficulty\" of\n",
    " schedules before an event takes place. This may also be a jumping-off point\n",
    " for even better models, perhaps generated by something like Microsoft's more\n",
    " nuanced TrueSkill metric, which uses a more nuanced Bayesian interpretation of\n",
    " player skill to account for inconsistency in outcomes."
   ]
  },
  {
   "cell_type": "markdown",
   "metadata": {},
   "source": [
    " # Endnotes\n",
    " If you're interested in learning more about the math, check out this [blog\n",
    " post](https://blog.mackie.io/the-elo-algorithm) which does a great job of\n",
    " explaining the elo algorithm. Thanks also to the developers of [The Blue\n",
    " Alliance](http://thebluealliance.com) for the API that was used to retrieve\n",
    " the raw data for this project. Credit also goes to Caleb Sykes, who was the\n",
    " first (as far as I know) to implement FRC Elo."
   ]
  }
 ],
 "metadata": {
  "file_extension": ".py",
  "kernelspec": {
   "display_name": "Python 3",
   "language": "python",
   "name": "python3"
  },
  "language_info": {
   "codemirror_mode": {
    "name": "ipython",
    "version": 3
   },
   "file_extension": ".py",
   "mimetype": "text/x-python",
   "name": "python",
   "nbconvert_exporter": "python",
   "pygments_lexer": "ipython3",
   "version": "3.6.5"
  },
  "mimetype": "text/x-python",
  "name": "python",
  "npconvert_exporter": "python",
  "pygments_lexer": "ipython3",
  "version": 3
 },
 "nbformat": 4,
 "nbformat_minor": 2
}
